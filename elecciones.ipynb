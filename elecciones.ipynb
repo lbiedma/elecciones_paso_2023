{
 "cells": [
  {
   "cell_type": "code",
   "execution_count": null,
   "metadata": {},
   "outputs": [],
   "source": [
    "import json\n",
    "import pandas as pd\n",
    "import requests"
   ]
  },
  {
   "cell_type": "code",
   "execution_count": null,
   "metadata": {},
   "outputs": [],
   "source": [
    "response = requests.get(\"https://resultados.gob.ar/backend-difu/scope/data/getScopeData/00000000000000000000000b/1/1\")\n",
    "data = response.json()\n",
    "json_object = json.dumps(data, indent=4)\n",
    "with open(\"resultados.json\", \"w\") as outfile:\n",
    "    outfile.write(json_object)"
   ]
  },
  {
   "cell_type": "code",
   "execution_count": null,
   "metadata": {},
   "outputs": [],
   "source": [
    "with open(\"resultados.json\", \"r\") as outfile:\n",
    "    data = json.load(outfile)\n",
    "generales = data[\"partidos\"]"
   ]
  },
  {
   "cell_type": "code",
   "execution_count": null,
   "metadata": {},
   "outputs": [],
   "source": [
    "df = pd.DataFrame.from_dict(generales)\n",
    "df.to_csv(\"resultados_por_partido.csv\")"
   ]
  }
 ],
 "metadata": {
  "kernelspec": {
   "display_name": "anyone",
   "language": "python",
   "name": "python3"
  },
  "language_info": {
   "codemirror_mode": {
    "name": "ipython",
    "version": 3
   },
   "file_extension": ".py",
   "mimetype": "text/x-python",
   "name": "python",
   "nbconvert_exporter": "python",
   "pygments_lexer": "ipython3",
   "version": "3.9.16"
  },
  "orig_nbformat": 4
 },
 "nbformat": 4,
 "nbformat_minor": 2
}
